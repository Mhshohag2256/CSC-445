{
 "cells": [
  {
   "cell_type": "markdown",
   "metadata": {
    "id": "AsSA0dIMNznB"
   },
   "source": [
    "# Homework 2 - MapReduce\n",
    "\n",
    "There is only one task in this homework. You are asked to implement the Social Triangle example discussed in class. In particular, given the email dataset, please list all \"reciprocal\" relationships in the company. Recall that:\n",
    "\n",
    "If A emails B and B emails A, then A and B is *reciprocal*.\n",
    "\n",
    "If A emails B but B doesn’t email A, then A and B is *directed*.\n",
    "\n",
    "**Dataset:** We will use a subset of the open [Enron Email Dataset](https://www.cs.cmu.edu/~./enron/ \"Enron Email Dataset\"), which contains approximately 10,000 simplified email headers from the Enron Corporation. A subset of the data is available as **enron_mails_small.csv** as part of this notebook. The file contains 3 columns *Date*, *From*, and *To*. Their description is as follows:\n",
    "\n",
    "|Column name|Description|\n",
    "|--|--|\n",
    "|Date |The date and time of the email, in the format YYYY-MM-DD hh-mm-ss, <br />e.g. \"1998-10-30 07:43:00\" |\n",
    "|From |The sender email address, <br />e.g. \"mark.taylor@enron.com\" |\n",
    "|To | A list of recipients' email addresses separated by semicolons ';', <br />e.g. \"jennifer.fraser@enron.com;jeffrey.hodge@enron.com\" |\n",
    "\n",
    "Note that, we only care about users employed by Enron, i.e. only relationships where email addresses end with *'@enron.com'*.\n",
    "\n",
    "The expected output is also provided below. For each reciprocal relationship, please output a tuple consisting of two strings. The first one is always **'reciprocal'**. And the second one is a string showing the name of the two person in the following format: **'Jane Doe : John Doe'**. The names should be presented in the lexical order, i.e. there will not be a 'John Doe : Jane Doe' since 'Jane' is ordered before 'John.\n",
    "\n",
    "Though the dataset only contains email addresses, not actual names, we're assuming that the email aliases were created based on their name. For example:\n",
    "\n",
    "|Email Address|Converted Name|\n",
    "|--|--|\n",
    "|mark.taylor@enron.com|Mark Taylor|\n",
    "|alan.aronowitz@enron.com|Alan Aronowitz|\n",
    "|marc.r.cutler@enron.com|Marc R Cutler|\n",
    "|hugh@enron.com|Hugh|"
   ]
  },
  {
   "cell_type": "markdown",
   "metadata": {},
   "source": [
    "# Mehedi Shohag\n",
    "## CSC 445-F"
   ]
  },
  {
   "cell_type": "code",
   "execution_count": 2,
   "metadata": {
    "id": "ozEACpiCPhw4"
   },
   "outputs": [
    {
     "name": "stdout",
     "output_type": "stream",
     "text": [
      "Requirement already satisfied: mrjob in c:\\users\\shoha\\anaconda3\\envs\\mldl\\lib\\site-packages (0.7.4)\n",
      "Requirement already satisfied: PyYAML>=3.10 in c:\\users\\shoha\\anaconda3\\envs\\mldl\\lib\\site-packages (from mrjob) (5.4.1)\n"
     ]
    },
    {
     "name": "stderr",
     "output_type": "stream",
     "text": [
      "WARNING: Ignoring invalid distribution -ensorflow-gpu (c:\\users\\shoha\\anaconda3\\envs\\mldl\\lib\\site-packages)\n",
      "WARNING: Ignoring invalid distribution -ensorflow-gpu (c:\\users\\shoha\\anaconda3\\envs\\mldl\\lib\\site-packages)\n",
      "WARNING: Ignoring invalid distribution -ensorflow-gpu (c:\\users\\shoha\\anaconda3\\envs\\mldl\\lib\\site-packages)\n",
      "WARNING: Ignoring invalid distribution -ensorflow-gpu (c:\\users\\shoha\\anaconda3\\envs\\mldl\\lib\\site-packages)\n",
      "WARNING: Ignoring invalid distribution -ensorflow-gpu (c:\\users\\shoha\\anaconda3\\envs\\mldl\\lib\\site-packages)\n",
      "WARNING: Ignoring invalid distribution -ensorflow-gpu (c:\\users\\shoha\\anaconda3\\envs\\mldl\\lib\\site-packages)\n",
      "Downloading...\n",
      "From: https://drive.google.com/uc?id=1sq4-zXn2Z82mdLSBBegEgsUsfqtgza-C\n",
      "To: S:\\MLAI\\445\\HW2\\final\\mapreduce.py\n",
      "\n",
      "  0%|          | 0.00/2.66k [00:00<?, ?B/s]\n",
      "100%|##########| 2.66k/2.66k [00:00<?, ?B/s]\n",
      "Downloading...\n",
      "From: https://drive.google.com/uc?id=1It6GP8O2JqkmUtZKbYp1kpwpuwOXlLps\n",
      "To: S:\\MLAI\\445\\HW2\\final\\enron_mails_small.csv\n",
      "\n",
      "  0%|          | 0.00/857k [00:00<?, ?B/s]\n",
      "100%|##########| 857k/857k [00:00<00:00, 13.6MB/s]\n"
     ]
    }
   ],
   "source": [
    "!pip install mrjob\n",
    "!gdown --id 1sq4-zXn2Z82mdLSBBegEgsUsfqtgza-C -O mapreduce.py\n",
    "!gdown --id 1It6GP8O2JqkmUtZKbYp1kpwpuwOXlLps -O enron_mails_small.csv"
   ]
  },
  {
   "cell_type": "markdown",
   "metadata": {
    "id": "mGLN0vu0_xOI"
   },
   "source": [
    "## Task 1 (10 pts)\n",
    "You must complete the **MRFindReciprocal** class below (which is inherited from MRJob), and your code must run with the **mapreduce.py** package **mr.runJob()** as provided."
   ]
  },
  {
   "cell_type": "code",
   "execution_count": 5,
   "metadata": {
    "colab": {
     "base_uri": "https://localhost:8080/"
    },
    "id": "kJcCBVWAVluX",
    "outputId": "a7762088-e45f-4061-c1f5-530dadff7c88"
   },
   "outputs": [
    {
     "name": "stdout",
     "output_type": "stream",
     "text": [
      "35\n"
     ]
    },
    {
     "data": {
      "text/plain": [
       "[('reciprocal', 'Brenda Whitehead:Elizabeth Sager'),\n",
       " ('reciprocal', 'Carol Clair:Debra Perlingiere'),\n",
       " ('reciprocal', 'Carol Clair:Mark Taylor'),\n",
       " ('reciprocal', 'Carol Clair:Richard Sanders'),\n",
       " ('reciprocal', 'Carol Clair:Sara Shackleton'),\n",
       " ('reciprocal', 'Carol Clair:Tana Jones'),\n",
       " ('reciprocal', 'Debra Perlingiere:Kevin Ruscitti'),\n",
       " ('reciprocal', 'Drew Fossum:Susan Scott'),\n",
       " ('reciprocal', 'Elizabeth Sager:Janette Elbertson'),\n",
       " ('reciprocal', 'Elizabeth Sager:Mark Haedicke'),\n",
       " ('reciprocal', 'Elizabeth Sager:Mark Taylor'),\n",
       " ('reciprocal', 'Elizabeth Sager:Richard Sanders'),\n",
       " ('reciprocal', 'Eric Bass:Susan Scott'),\n",
       " ('reciprocal', 'Fletcher Sturm:Greg Whalley'),\n",
       " ('reciprocal', 'Fletcher Sturm:Sally Beck'),\n",
       " ('reciprocal', 'Gerald Nemec:Susan Scott'),\n",
       " ('reciprocal', 'Grant Masson:Vince Kaminski'),\n",
       " ('reciprocal', 'Greg Whalley:Richard Sanders'),\n",
       " ('reciprocal', 'Janette Elbertson:Mark Taylor'),\n",
       " ('reciprocal', 'Janette Elbertson:Richard Sanders'),\n",
       " ('reciprocal', 'Liz Taylor:Mark Haedicke'),\n",
       " ('reciprocal', 'Mark Haedicke:Mark Taylor'),\n",
       " ('reciprocal', 'Mark Haedicke:Michelle Cash'),\n",
       " ('reciprocal', 'Mark Haedicke:Richard Sanders'),\n",
       " ('reciprocal', 'Mark Haedicke:Twanda Sweet'),\n",
       " ('reciprocal', 'Mark Taylor:Sara Shackleton'),\n",
       " ('reciprocal', 'Mark Taylor:Tana Jones'),\n",
       " ('reciprocal', 'Michelle Cash:Twanda Sweet'),\n",
       " ('reciprocal', 'Pinnamaneni Krishnarao:Vince Kaminski'),\n",
       " ('reciprocal', 'Richard Sanders:Sara Shackleton'),\n",
       " ('reciprocal', 'Rosalee Fleming:Steven Kean'),\n",
       " ('reciprocal', 'Sara Shackleton:Tana Jones'),\n",
       " ('reciprocal', 'Shirley Crenshaw:Vince Kaminski'),\n",
       " ('reciprocal', 'Stinson Gibner:Vince Kaminski'),\n",
       " ('reciprocal', 'Vasant Shanbhogue:Vince Kaminski')]"
      ]
     },
     "execution_count": 5,
     "metadata": {},
     "output_type": "execute_result"
    }
   ],
   "source": [
    "import csv\n",
    "import mapreduce as mr\n",
    "from mrjob.job import MRJob\n",
    "from mrjob.step import MRStep\n",
    "\n",
    "################################\n",
    "### YOUR WORK SHOULD BE HERE ###\n",
    "################################\n",
    "class MRFindReciprocal(MRJob):\n",
    "    \n",
    "    hash_table = {}\n",
    "    def mapper1(self, _, row):\n",
    "        data = row.strip().split(',')\n",
    "        email_from = data[1]\n",
    "        email_to = data[2]\n",
    "        email_from_list = email_from.split(',')\n",
    "        for i in email_from_list:\n",
    "            if \"@enron.com\" in i:\n",
    "                email_from = i.split('@')[0]\n",
    "                ffirst_name = email_from.split('.')[0]\n",
    "                flast_name = email_from.split('.')[-1]\n",
    "                email_from = ffirst_name.title() + \" \" + flast_name.title()\n",
    "                To_list = email_to.split(';')\n",
    "                for j in To_list:\n",
    "                    if \"@enron.com\" in j:\n",
    "                        email_to = j.split('@')[0]\n",
    "                        tfirst_name = email_to.split('.')[0]\n",
    "                        tlast_name = email_to.split('.')[-1]\n",
    "                        email_to = tfirst_name.title() + \" \" + tlast_name.title()\n",
    "                        yield ([email_from, email_to])\n",
    "    \n",
    "    def reducer1(self, email_from, email_to):\n",
    "        yield (email_from, set(email_to))\n",
    "\n",
    "    def mapper2(self, email_from, email_to):\n",
    "        self.hash_table[email_from] = email_to\n",
    "        for i in email_to:\n",
    "            yield (i, email_from)\n",
    "\n",
    "    def reducer2(self, rcvr, email_from):\n",
    "        if rcvr in self.hash_table:\n",
    "            email = (set(email_from), self.hash_table[rcvr])\n",
    "            yield (rcvr, email)\n",
    "\n",
    "    def mapper3(self, rcvr, email):\n",
    "        sender, reciver = email\n",
    "        for i in sender:\n",
    "            if i in reciver:\n",
    "                couple = (rcvr, i)\n",
    "                first, second = sorted(couple)\n",
    "                yield ('reciprocal', first + ':' + second)\n",
    "\n",
    "    def reducer3(self, _, name):\n",
    "        name = sorted(set(name))\n",
    "        for i in name:\n",
    "            first, second = i.split(':')\n",
    "            if first != second:\n",
    "                yield ('reciprocal', (i))\n",
    "\n",
    "    def steps(self):\n",
    "        return [MRStep(mapper=self.mapper1,\n",
    "                       reducer=self.reducer1),\n",
    "                MRStep(mapper=self.mapper2,\n",
    "                       reducer=self.reducer2),\n",
    "                MRStep(mapper=self.mapper3,\n",
    "                       reducer=self.reducer3)]\n",
    "\n",
    "\n",
    "###################################\n",
    "### DO NOT EDIT BELOW THIS LINE ###\n",
    "###################################\n",
    "job = MRFindReciprocal(args=[])\n",
    "with open('enron_mails_small.csv', 'r') as fi:\n",
    "  next(fi)\n",
    "  output = list(mr.runJob(enumerate(map(lambda x: x.strip(), fi)), job))\n",
    "\n",
    "print(len(output))\n",
    "output"
   ]
  },
  {
   "cell_type": "markdown",
   "metadata": {
    "id": "kTgKwfmP_hmR"
   },
   "source": [
    "## Task 2 (5 points)\n",
    "Please also convert your MR Job Class in Task 1 into a stand-alone `BDM_HW2.py` file that can be run directly with `python` similar to our Lab 3."
   ]
  },
  {
   "cell_type": "code",
   "execution_count": 7,
   "metadata": {
    "id": "gNfYxI78_gdh"
   },
   "outputs": [
    {
     "name": "stdout",
     "output_type": "stream",
     "text": [
      "35\n",
      "('reciprocal', 'Brenda Whitehead:Elizabeth Sager')\n",
      "('reciprocal', 'Carol Clair:Debra Perlingiere')\n",
      "('reciprocal', 'Carol Clair:Mark Taylor')\n",
      "('reciprocal', 'Carol Clair:Richard Sanders')\n",
      "('reciprocal', 'Carol Clair:Sara Shackleton')\n",
      "('reciprocal', 'Carol Clair:Tana Jones')\n",
      "('reciprocal', 'Debra Perlingiere:Kevin Ruscitti')\n",
      "('reciprocal', 'Drew Fossum:Susan Scott')\n",
      "('reciprocal', 'Elizabeth Sager:Janette Elbertson')\n",
      "('reciprocal', 'Elizabeth Sager:Mark Haedicke')\n",
      "('reciprocal', 'Elizabeth Sager:Mark Taylor')\n",
      "('reciprocal', 'Elizabeth Sager:Richard Sanders')\n",
      "('reciprocal', 'Eric Bass:Susan Scott')\n",
      "('reciprocal', 'Fletcher Sturm:Greg Whalley')\n",
      "('reciprocal', 'Fletcher Sturm:Sally Beck')\n",
      "('reciprocal', 'Gerald Nemec:Susan Scott')\n",
      "('reciprocal', 'Grant Masson:Vince Kaminski')\n",
      "('reciprocal', 'Greg Whalley:Richard Sanders')\n",
      "('reciprocal', 'Janette Elbertson:Mark Taylor')\n",
      "('reciprocal', 'Janette Elbertson:Richard Sanders')\n",
      "('reciprocal', 'Liz Taylor:Mark Haedicke')\n",
      "('reciprocal', 'Mark Haedicke:Mark Taylor')\n",
      "('reciprocal', 'Mark Haedicke:Michelle Cash')\n",
      "('reciprocal', 'Mark Haedicke:Richard Sanders')\n",
      "('reciprocal', 'Mark Haedicke:Twanda Sweet')\n",
      "('reciprocal', 'Mark Taylor:Sara Shackleton')\n",
      "('reciprocal', 'Mark Taylor:Tana Jones')\n",
      "('reciprocal', 'Michelle Cash:Twanda Sweet')\n",
      "('reciprocal', 'Pinnamaneni Krishnarao:Vince Kaminski')\n",
      "('reciprocal', 'Richard Sanders:Sara Shackleton')\n",
      "('reciprocal', 'Rosalee Fleming:Steven Kean')\n",
      "('reciprocal', 'Sara Shackleton:Tana Jones')\n",
      "('reciprocal', 'Shirley Crenshaw:Vince Kaminski')\n",
      "('reciprocal', 'Stinson Gibner:Vince Kaminski')\n",
      "('reciprocal', 'Vasant Shanbhogue:Vince Kaminski')\n"
     ]
    }
   ],
   "source": [
    "!python BDM_HW2.py enron_mails_small.csv"
   ]
  },
  {
   "cell_type": "code",
   "execution_count": null,
   "metadata": {},
   "outputs": [],
   "source": []
  }
 ],
 "metadata": {
  "colab": {
   "collapsed_sections": [],
   "name": "BDM_HW2",
   "provenance": [],
   "toc_visible": true
  },
  "kernelspec": {
   "display_name": "Python 3",
   "language": "python",
   "name": "python3"
  },
  "language_info": {
   "codemirror_mode": {
    "name": "ipython",
    "version": 3
   },
   "file_extension": ".py",
   "mimetype": "text/x-python",
   "name": "python",
   "nbconvert_exporter": "python",
   "pygments_lexer": "ipython3",
   "version": "3.6.13"
  }
 },
 "nbformat": 4,
 "nbformat_minor": 1
}
