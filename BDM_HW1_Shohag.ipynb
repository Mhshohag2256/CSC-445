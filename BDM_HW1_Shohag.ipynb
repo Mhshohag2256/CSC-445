{
 "cells": [
  {
   "cell_type": "markdown",
   "metadata": {
    "id": "lvnKTXzOO5p_"
   },
   "source": [
    "# Homework 1 - Streaming and Higher Order Functions (15 pts)\n",
    "\n",
    "Please turn in your note book naming as *BDM\\_HW1\\_LastName.ipynb*."
   ]
  },
  {
   "cell_type": "markdown",
   "metadata": {},
   "source": [
    "# Mehedi Shohag\n",
    "## CSC 445-F"
   ]
  },
  {
   "cell_type": "markdown",
   "metadata": {
    "id": "aCy9ZXhXL9Lo"
   },
   "source": [
    "\n",
    "## Task 1 (2 points)\n",
    "\n",
    "Please complete the **lambda f1** definition below by filling in the _________ part. **f1** is expected to take a single string argument and returns whether the string can be converted to a natural number or zero. If it's possible, returns **'Number'**, otherwise returns **'Not a number'**. For example *'0123'* is a valid number 'Number', whereas *'0xff'* is not."
   ]
  },
  {
   "cell_type": "code",
   "execution_count": null,
   "metadata": {
    "id": "_ZGEp6bsL9Lp",
    "outputId": "519da116-815a-4d9c-fcc7-2e3743498995"
   },
   "outputs": [
    {
     "name": "stdout",
     "output_type": "stream",
     "text": [
      "Not a Number\n",
      "Number\n",
      "Not a Number\n"
     ]
    }
   ],
   "source": [
    "f1 = lambda x: __________\n",
    "print(f1('1A'))\n",
    "print(f1('12'))\n",
    "print(f1('b1'))"
   ]
  },
  {
   "cell_type": "markdown",
   "metadata": {},
   "source": [
    "# Solution for Task 1"
   ]
  },
  {
   "cell_type": "code",
   "execution_count": 29,
   "metadata": {},
   "outputs": [
    {
     "name": "stdout",
     "output_type": "stream",
     "text": [
      "Not a Number\n",
      "Number\n",
      "Not a Number\n"
     ]
    }
   ],
   "source": [
    "f1 = lambda x: 'Number' if x.isdigit() or x<='0' else 'Not a Number'\n",
    "\n",
    "print(f1('1A'))\n",
    "print(f1('12'))\n",
    "print(f1('b1'))"
   ]
  },
  {
   "cell_type": "markdown",
   "metadata": {
    "id": "tk3arVyKL9Lq"
   },
   "source": [
    "\n",
    "## Task 2 (2 points)\n",
    "\n",
    "Please complete the **lambda f2** definition below by filling in the _________ part. **f2** takes a single iterable (e.g. a list or a string), and returns the number of unique elements. Please see the sample output below."
   ]
  },
  {
   "cell_type": "code",
   "execution_count": null,
   "metadata": {
    "id": "OH6LEFSzL9Lr",
    "outputId": "c4ff83eb-00a3-4f1b-9ec2-ba8bce9c2dd6"
   },
   "outputs": [
    {
     "name": "stdout",
     "output_type": "stream",
     "text": [
      "5\n",
      "8\n"
     ]
    }
   ],
   "source": [
    "f2 = lambda x: __________\n",
    "print(f2([1,2,3,4,1,5,2]))\n",
    "print(f2('hello world'))"
   ]
  },
  {
   "cell_type": "markdown",
   "metadata": {},
   "source": [
    "# Solution for Task 2"
   ]
  },
  {
   "cell_type": "code",
   "execution_count": 30,
   "metadata": {},
   "outputs": [
    {
     "name": "stdout",
     "output_type": "stream",
     "text": [
      "5\n",
      "8\n"
     ]
    }
   ],
   "source": [
    "f2 = lambda x: len(set(x))\n",
    "print(f2([1,2,3,4,1,5,2]))\n",
    "print(f2('hello world'))"
   ]
  },
  {
   "cell_type": "code",
   "execution_count": 5,
   "metadata": {},
   "outputs": [
    {
     "ename": "SyntaxError",
     "evalue": "invalid syntax (<ipython-input-5-7175f15c8025>, line 4)",
     "output_type": "error",
     "traceback": [
      "\u001b[1;36m  File \u001b[1;32m\"<ipython-input-5-7175f15c8025>\"\u001b[1;36m, line \u001b[1;32m4\u001b[0m\n\u001b[1;33m    countWord(['Hello there']) # 2\u001b[0m\n\u001b[1;37m            ^\u001b[0m\n\u001b[1;31mSyntaxError\u001b[0m\u001b[1;31m:\u001b[0m invalid syntax\n"
     ]
    }
   ],
   "source": [
    "from functools import reduce\n",
    "countWord = lambda text: reduce(len(set(text))\n",
    "\n",
    "countWord(['Hello there']) # 2\n"
   ]
  },
  {
   "cell_type": "code",
   "execution_count": null,
   "metadata": {},
   "outputs": [],
   "source": [
    "countWord(['Welcome to the big data exam']) # 6\n",
    "countWord(['Hello there', 'Welcome to the big data exam']) # 8"
   ]
  },
  {
   "cell_type": "markdown",
   "metadata": {
    "id": "MGjOHTNOL9Lr"
   },
   "source": [
    "\n",
    "## Task 3 (2 points)\n",
    "\n",
    "Please complete the **lambda f3** definition below by filling in the _________ part. **f3** takes two strings *x* and *y*, and return all the words in *x* that do not appear in *y*. Please note that the word comparison iscase insensitive. Samples area also provided below."
   ]
  },
  {
   "cell_type": "code",
   "execution_count": 35,
   "metadata": {
    "id": "OgKRE6WvL9Ls",
    "outputId": "a56bf550-f3b1-47c9-a260-b7109ae5f592"
   },
   "outputs": [
    {
     "name": "stdout",
     "output_type": "stream",
     "text": [
      "['management', 'and', 'analysis']\n",
      "['a']\n"
     ]
    }
   ],
   "source": [
    "f3 = lambda x, y: __________\n",
    "print(f3('big data management and analysis', 'big data computing'))\n",
    "print(f3('this is a phrase', 'this is another phrase'))"
   ]
  },
  {
   "cell_type": "markdown",
   "metadata": {},
   "source": [
    "# Solution for Task 3"
   ]
  },
  {
   "cell_type": "code",
   "execution_count": 53,
   "metadata": {},
   "outputs": [
    {
     "name": "stdout",
     "output_type": "stream",
     "text": [
      "['management', 'and', 'analysis']\n",
      "['a']\n"
     ]
    }
   ],
   "source": [
    "f3=lambda x,y: sorted(list(set(x.split()).difference(set(y.split()))),reverse=True)\n",
    "print(f3('big data management and analysis', 'big data computing'))\n",
    "print(f3('this is a phrase', 'this is another phrase'))"
   ]
  },
  {
   "cell_type": "markdown",
   "metadata": {
    "id": "4D1Sn_NiL9Ls"
   },
   "source": [
    "\n",
    "## Task 4 (9 points)\n",
    "\n",
    "We are greatly inspired by the [Consumer Complaints](https://github.com/InsightDataScience/consumer_complaints) challenge from [InsightDataScience](https://github.com/InsightDataScience/). In fact, we are going to tackle the same challenge but streaming. Please read through the challenge at the following link (the most important sections are “Input dataset” and “Expected output”):\n",
    "\n",
    "<https://github.com/InsightDataScience/consumer_complaints>\n",
    "\n",
    "Our problem is different than the one above in that the INPUT is also <ins>sorted by product (alphabetically) and year (ascending)</ins>, similar to the requested output format. You are asked to complete the generator below to produce the expected output. You should not edit any other code.\n",
    "\n",
    "### INPUT\n",
    "Your code will be evaluated against the original data set (in CSV format) downloaded from the below link (of course with a sorted version). For your convenience, a smaller version of the file is provided below for testing purposes.\n",
    "\n",
    "https://www.consumerfinance.gov/data-research/consumer-complaints/#download-the-data\n",
    "\n"
   ]
  },
  {
   "cell_type": "code",
   "execution_count": 37,
   "metadata": {
    "colab": {
     "base_uri": "https://localhost:8080/"
    },
    "id": "Xf4WQNpEi021",
    "outputId": "8c943c3c-025c-4cad-c66e-a868de1cb88a"
   },
   "outputs": [
    {
     "name": "stderr",
     "output_type": "stream",
     "text": [
      "Downloading...\n",
      "From: https://drive.google.com/uc?id=1-IeoZDwT5wQzBUpsaS5B6vTaP-2ZBkam\n",
      "To: S:\\MLAI\\445\\HW\\complaints.csv\n",
      "\n",
      "0.00B [00:00, ?B/s]\n",
      "2.62MB [00:00, 25.0MB/s]\n",
      "3.91MB [00:00, 26.4MB/s]\n"
     ]
    },
    {
     "name": "stdout",
     "output_type": "stream",
     "text": [
      "Date received,Product,Sub-product,Issue,Sub-issue,Consumer complaint narrative,Company public response,Company,State,ZIP code,Tags,Consumer consent provided?,Submitted via,Date sent to company,Company response to consumer,Timely response?,Consumer disputed?,Complaint ID\n"
     ]
    }
   ],
   "source": [
    "!gdown --id 1-IeoZDwT5wQzBUpsaS5B6vTaP-2ZBkam -O complaints.csv\n",
    "!head -n 1 complaints.csv"
   ]
  },
  {
   "cell_type": "code",
   "execution_count": null,
   "metadata": {
    "id": "28mcMPLZUB6A"
   },
   "outputs": [],
   "source": [
    "def task4(reader):\n",
    "  # YOU CAN ONLY EDIT CODE BELOW THIS LINE\n",
    "  # Note: below is just an example, and not correct\n",
    "  for row in reader: # this line should stay the same\n",
    "    yield [row['Product'].lower(), row['Date received']]"
   ]
  },
  {
   "cell_type": "code",
   "execution_count": null,
   "metadata": {
    "colab": {
     "base_uri": "https://localhost:8080/"
    },
    "id": "vdF8fvHjTScK",
    "outputId": "57bb380a-ed6b-4ef8-f65b-166fe489b590"
   },
   "outputs": [
    {
     "name": "stdout",
     "output_type": "stream",
     "text": [
      "bank account or service,2015-12-31\r\n",
      "bank account or service,2016-03-15\r\n",
      "bank account or service,2016-10-24\r\n",
      "checking or savings account,2017-09-08\r\n",
      "checking or savings account,2018-09-19\r\n",
      "checking or savings account,2018-12-04\r\n",
      "checking or savings account,2018-12-05\r\n",
      "checking or savings account,2018-12-06\r\n",
      "checking or savings account,2018-12-10\r\n",
      "checking or savings account,2018-12-10\r\n"
     ]
    }
   ],
   "source": [
    "# DO NOT EDIT THIS CELL, YOU CAN RUN TO QUICKLY CHECK YOUR RESULTS\n",
    "\n",
    "import csv\n",
    "\n",
    "with open('complaints.csv', 'r') as fi, open('output.csv', 'w') as fo:\n",
    "  reader = csv.DictReader(fi)\n",
    "  writer = csv.writer(fo)\n",
    "  for row in task4(reader):\n",
    "    writer.writerow(row)\n",
    "\n",
    "!head output.csv"
   ]
  },
  {
   "cell_type": "markdown",
   "metadata": {
    "id": "4w5uhaHIWKv-"
   },
   "source": [
    "# Solution for Task 4"
   ]
  },
  {
   "cell_type": "code",
   "execution_count": null,
   "metadata": {},
   "outputs": [],
   "source": [
    "def task4(reader):\n",
    "  # YOU CAN ONLY EDIT CODE BELOW THIS LINE\n",
    "  # Note: below is just an example, and not correct\n",
    "    dic={}\n",
    "    year={}\n",
    "    for i in reader['Product']:\n",
    "        if i not in dic:\n",
    "            dic[i]=0\n",
    "        dic[i]+=1\n",
    "    \n",
    "    Year = pd.DatetimeIndex(reader['Date received']).year\n",
    "    for i in Year:\n",
    "        if i not in year:\n",
    "            year[i]=0\n",
    "        year[i]+=1\n"
   ]
  },
  {
   "cell_type": "code",
   "execution_count": null,
   "metadata": {},
   "outputs": [],
   "source": []
  }
 ],
 "metadata": {
  "colab": {
   "collapsed_sections": [],
   "name": "BDM_HW1",
   "provenance": [],
   "toc_visible": true
  },
  "kernelspec": {
   "display_name": "Python 3",
   "language": "python",
   "name": "python3"
  },
  "language_info": {
   "codemirror_mode": {
    "name": "ipython",
    "version": 3
   },
   "file_extension": ".py",
   "mimetype": "text/x-python",
   "name": "python",
   "nbconvert_exporter": "python",
   "pygments_lexer": "ipython3",
   "version": "3.6.13"
  }
 },
 "nbformat": 4,
 "nbformat_minor": 1
}
